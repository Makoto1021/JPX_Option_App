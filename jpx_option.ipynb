{
 "cells": [
  {
   "cell_type": "markdown",
   "metadata": {},
   "source": [
    "## 1. 初期設定"
   ]
  },
  {
   "cell_type": "markdown",
   "metadata": {},
   "source": [
    "### 1-1. 必要なパッケージをインポート"
   ]
  },
  {
   "cell_type": "code",
   "execution_count": 1,
   "metadata": {},
   "outputs": [],
   "source": [
    "import pandas as pd\n",
    "import numpy as np\n",
    "from datetime import datetime as dt\n",
    "from datetime import timedelta\n",
    "import io\n",
    "import requests\n",
    "import re\n",
    "from bs4 import BeautifulSoup\n",
    "from functools import partial, reduce\n",
    "from download_data import get_url, clean_dataframe, get_csv, download_data\n",
    "from transform_data import *\n",
    "from prepare_option_data import prepare_option_data\n",
    "import os\n",
    "import glob"
   ]
  },
  {
   "cell_type": "code",
   "execution_count": 2,
   "metadata": {},
   "outputs": [],
   "source": [
    "import warnings\n",
    "warnings.filterwarnings('ignore')"
   ]
  },
  {
   "cell_type": "markdown",
   "metadata": {},
   "source": [
    "### 1-2. パラメーターの設定"
   ]
  },
  {
   "cell_type": "code",
   "execution_count": 3,
   "metadata": {},
   "outputs": [],
   "source": [
    "dirname = os.getcwd()\n",
    "RAW_DATA = os.path.join(dirname, '元データ/')\n",
    "SAVED_DATA = os.path.join(dirname, '完成データ/')"
   ]
  },
  {
   "cell_type": "code",
   "execution_count": 4,
   "metadata": {},
   "outputs": [],
   "source": [
    "days = 0"
   ]
  },
  {
   "cell_type": "code",
   "execution_count": 5,
   "metadata": {},
   "outputs": [],
   "source": [
    "colnames = ['institutions_sell_code', 'institutions_sell', \n",
    "            'institutions_sell_eng', 'volume_sell', 'institutions_buy_code', \n",
    "            'institutions_buy', 'institutions_buy_eng', 'volume_buy']"
   ]
  },
  {
   "cell_type": "code",
   "execution_count": 6,
   "metadata": {},
   "outputs": [],
   "source": [
    "day = dt.today() - timedelta(days=days)"
   ]
  },
  {
   "cell_type": "markdown",
   "metadata": {},
   "source": [
    "## 2. ダウンロード"
   ]
  },
  {
   "cell_type": "code",
   "execution_count": 8,
   "metadata": {
    "tags": []
   },
   "outputs": [
    {
     "output_type": "stream",
     "name": "stdout",
     "text": "2020年9月29日の日中立会取引データをダウンロードしました\n2020年9月29日の日中JNET取引データをダウンロードしました\n2020年9月29日のナイト立会取引データをダウンロードしました\n2020年9月29日のナイトJNET取引データをダウンロードしました\n"
    }
   ],
   "source": [
    "text, df_wholeday = download_data(datatype=3, day=day, colnames=colnames, RAW_DATA=RAW_DATA)\n",
    "text, df_wholeday_JNET = download_data(datatype=4, day=day, colnames=colnames, RAW_DATA=RAW_DATA)\n",
    "text, df_night = download_data(datatype=1, day=day, colnames=colnames, RAW_DATA=RAW_DATA)\n",
    "text, df_night_JNET = download_data(datatype=2, day=day, colnames=colnames, RAW_DATA=RAW_DATA)"
   ]
  },
  {
   "cell_type": "code",
   "execution_count": 10,
   "metadata": {},
   "outputs": [],
   "source": [
    "option_wholeday = prepare_option_data(df_wholeday)\n",
    "option_wholeday_JNET = prepare_option_data(df_wholeday_JNET)\n",
    "option_night = prepare_option_data(df_night)\n",
    "option_night_JNET = prepare_option_data(df_night_JNET)"
   ]
  }
 ],
 "metadata": {
  "creator": "admin",
  "customFields": {},
  "kernelspec": {
   "display_name": "Python 3.6.10 64-bit ('jpx_option_env': conda)",
   "language": "python",
   "name": "python_defaultSpec_1601406611624"
  },
  "language_info": {
   "codemirror_mode": {
    "name": "ipython",
    "version": 3
   },
   "file_extension": ".py",
   "mimetype": "text/x-python",
   "name": "python",
   "nbconvert_exporter": "python",
   "pygments_lexer": "ipython3",
   "version": "3.6.10-final"
  },
  "tags": []
 },
 "nbformat": 4,
 "nbformat_minor": 1
}